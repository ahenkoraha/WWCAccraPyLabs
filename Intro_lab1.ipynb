{
  "cells": [
    {
      "attachments": {},
      "cell_type": "markdown",
      "metadata": {
        "id": "l31QOSRQvKuH"
      },
      "source": [
        "## Women Who Code Accra\n",
        "## Introduction to Python"
      ]
    },
    {
      "attachments": {},
      "cell_type": "markdown",
      "metadata": {},
      "source": [
        " - Python 3 is used in the python lab documents. To install Python 3, follow guidelines [here](https://realpython.com/installing-python/)\n",
        " - Jupyter Notebook and its features are used. Follow steps from any of the options below to get started\n",
        "    - [VS Code + Jupyter](https://code.visualstudio.com/docs/datascience/jupyter-notebooks)\n",
        "    - [Anaconda](https://www.codecademy.com/article/setting-up-jupyter-notebook)\n",
        "    - [Jupyter Lab with Pip](https://python.land/data-science/jupyter-notebook)\n",
        "  - Follow along the cells using `Shift`+`Enter`. Alternatively, you can press `Run` in the menu. \n"
      ]
    },
    {
      "attachments": {},
      "cell_type": "markdown",
      "metadata": {
        "id": "fwK8IwO6vKuS"
      },
      "source": [
        "### Topic to be coverered\n",
        "- [1 - Values and Types](#1)\n",
        "- [2 - Variables](#2)\n",
        "- [3 - Operators](#3)\n",
        "- [4 - Comment](#4)\n",
        "- [5 - Built-in function](#5)\n",
        "    - [print](#5)\n",
        "\n",
        "    "
      ]
    },
    {
      "attachments": {},
      "cell_type": "markdown",
      "metadata": {
        "id": "KINyaQ0LvKuT"
      },
      "source": [
        "<a name ='1'></a>\n",
        "### 1 - Values and Types\n",
        "A value is one of the basic things a program works with, like a number or character(letter)\n",
        " - String - this belongs to the type str and are enclosed in single ot double quotes\n",
        " - Integers  - this belongs to type int and are whole numbers\n",
        " - Float - this belongs to the type float and are decimal numbers\n",
        " - Boolean - this belongs to the type bool for true or false\n",
        "\n",
        "\n",
        " ### Examples:"
      ]
    },
    {
      "cell_type": "code",
      "execution_count": 1,
      "metadata": {
        "id": "bFVHYCsVvKuU"
      },
      "outputs": [
        {
          "data": {
            "text/plain": [
              "False"
            ]
          },
          "execution_count": 1,
          "metadata": {},
          "output_type": "execute_result"
        }
      ],
      "source": [
        "'Testing this 1 here'\n",
        "\"12358\"\n",
        "1\n",
        "2\n",
        "-1\n",
        "1.0\n",
        "3.0\n",
        "3.5\n",
        "True\n",
        "False"
      ]
    },
    {
      "attachments": {},
      "cell_type": "markdown",
      "metadata": {},
      "source": [
        "<a name='2'></a>\n",
        "### 2 - Variables\n",
        "A variable is a name that refers to a value. (An assignment statement creates new variables and gives them values)\n",
        "\n",
        "### Examples:"
      ]
    },
    {
      "cell_type": "code",
      "execution_count": null,
      "metadata": {
        "id": "8e8j8HBAvKuW"
      },
      "outputs": [],
      "source": [
        "Weight = 69\n",
        "Age  =20\n",
        "IsitOk =True\n",
        "Name = 'Akua'"
      ]
    },
    {
      "attachments": {},
      "cell_type": "markdown",
      "metadata": {},
      "source": [
        "<a name = '3'></a>\n",
        "### 3 - Operators\n",
        "Operators are special symbols that represent computation(processing) of some value.\n",
        "The operators *+*, *-*, ***,*/* , **, //, %  perform addition, subtraction, multiplication ,exponentiation, floor division and modulos on int and float\n",
        "*+* and * performs concatenation and replication on str\n",
        "\n",
        "## Examples:"
      ]
    },
    {
      "cell_type": "code",
      "execution_count": null,
      "metadata": {
        "id": "4bTCxWrkvKuX",
        "outputId": "b25ca346-aa78-4a43-82a8-d97240ed8872"
      },
      "outputs": [
        {
          "data": {
            "text/plain": [
              "4.4"
            ]
          },
          "execution_count": 2,
          "metadata": {},
          "output_type": "execute_result"
        }
      ],
      "source": [
        "1.2+3.2"
      ]
    },
    {
      "cell_type": "code",
      "execution_count": null,
      "metadata": {
        "id": "2-bFnnq8vKuY",
        "outputId": "3d9ed6c7-1c45-40f0-878f-9c0406dc694d"
      },
      "outputs": [
        {
          "data": {
            "text/plain": [
              "'Akua Oseiwah'"
            ]
          },
          "execution_count": 4,
          "metadata": {},
          "output_type": "execute_result"
        }
      ],
      "source": [
        "'Akua' + ' Oseiwah'"
      ]
    },
    {
      "cell_type": "code",
      "execution_count": null,
      "metadata": {
        "id": "0mG4AZMuvKuZ",
        "outputId": "9450414f-e2e7-4eb8-ff8d-1d86bc28607d"
      },
      "outputs": [
        {
          "data": {
            "text/plain": [
              "'Akua Oseiwah'"
            ]
          },
          "execution_count": 6,
          "metadata": {},
          "output_type": "execute_result"
        }
      ],
      "source": [
        "FirstName = 'Akua'\n",
        "MiddleName = ' Oseiwah'\n",
        "FirstName + MiddleName"
      ]
    },
    {
      "cell_type": "code",
      "execution_count": null,
      "metadata": {
        "id": "LLSG6tIYvKua",
        "outputId": "bb547c8b-f3cc-4e7a-b121-0ba1a03cbc5a"
      },
      "outputs": [
        {
          "data": {
            "text/plain": [
              "'hahahahahahahahahahahahahahahahahahahaha'"
            ]
          },
          "execution_count": 8,
          "metadata": {},
          "output_type": "execute_result"
        }
      ],
      "source": [
        "'ha'*20"
      ]
    },
    {
      "cell_type": "code",
      "execution_count": 1,
      "metadata": {
        "id": "sSMmwyryvKub",
        "outputId": "5ce9cc40-ef37-4e6b-c68d-002b3fd1759f"
      },
      "outputs": [
        {
          "data": {
            "text/plain": [
              "2"
            ]
          },
          "execution_count": 1,
          "metadata": {},
          "output_type": "execute_result"
        }
      ],
      "source": [
        "6%4"
      ]
    },
    {
      "cell_type": "code",
      "execution_count": 2,
      "metadata": {
        "id": "mYGit5iKvKuc",
        "outputId": "e01660f2-fa90-44b3-a10b-8e529cc346fd"
      },
      "outputs": [
        {
          "data": {
            "text/plain": [
              "2"
            ]
          },
          "execution_count": 2,
          "metadata": {},
          "output_type": "execute_result"
        }
      ],
      "source": [
        "5//2"
      ]
    },
    {
      "attachments": {},
      "cell_type": "markdown",
      "metadata": {},
      "source": [
        "<a name ='4'></a>\n",
        "### 4 - Comment\n",
        "Notes(Comments) can be added to your code to make it easy to understand. Comments are added by starting a line with *#*. Everything from the start of the *#* to the end of the line is ignored\n",
        "\n",
        "### Examples:"
      ]
    },
    {
      "cell_type": "code",
      "execution_count": 1,
      "metadata": {
        "id": "Hj9RbRYKvKuc",
        "outputId": "91e5d1a0-2432-41c3-82d3-75d39e5bb7cd"
      },
      "outputs": [
        {
          "data": {
            "text/plain": [
              "2"
            ]
          },
          "execution_count": 1,
          "metadata": {},
          "output_type": "execute_result"
        }
      ],
      "source": [
        "#this is a division line\n",
        "5//2 #ththhthththhtht"
      ]
    },
    {
      "attachments": {},
      "cell_type": "markdown",
      "metadata": {
        "id": "k-E_aqeivKud"
      },
      "source": [
        "<a name='5'></a>\n",
        "### 5 - Built-in functions\n",
        "- Built-in functions\n",
        "    - Print\n",
        "\n",
        "Python provides built-in functions for various operations. THe print() function is used to display output. The values parsed to it will be converted to string and printed.\n",
        "\n",
        "### Examples:"
      ]
    },
    {
      "cell_type": "code",
      "execution_count": null,
      "metadata": {
        "id": "pugJt4jSvKud",
        "outputId": "01eb7d05-b122-4c80-eafc-c7f800a0e933"
      },
      "outputs": [
        {
          "name": "stdout",
          "output_type": "stream",
          "text": [
            "Hello WWC Accra!\n",
            "hello 2\n"
          ]
        }
      ],
      "source": [
        "print('Hello WWC Accra!')\n",
        "\n",
        "print('hello 2')"
      ]
    },
    {
      "attachments": {},
      "cell_type": "markdown",
      "metadata": {},
      "source": [
        "### 1st App: BMI calculator app"
      ]
    },
    {
      "cell_type": "code",
      "execution_count": null,
      "metadata": {
        "id": "QBEpuhdzvKue",
        "outputId": "e1950542-93c9-4146-8088-716877eba85f"
      },
      "outputs": [
        {
          "name": "stdout",
          "output_type": "stream",
          "text": [
            "This is your BMI:\n",
            "23.87543252595156\n"
          ]
        }
      ],
      "source": [
        "#BMI App (beginner's version) Weight/Height*Height\n",
        "Weight = 69\n",
        "Heightcm = 170\n",
        "\n",
        "#convert height in centimeters to meters\n",
        "Heightm = Heightcm/100\n",
        "\n",
        "#Calculate BMI\n",
        "BMI = Weight/(Heightm**2)\n",
        "\n",
        "print('This is your BMI:')\n",
        "print(BMI)\n",
        "\n"
      ]
    }
  ],
  "metadata": {
    "colab": {
      "provenance": [],
      "toc_visible": true
    },
    "interpreter": {
      "hash": "b3ba2566441a7c06988d0923437866b63cedc61552a5af99d1f4fb67d367b25f"
    },
    "kernelspec": {
      "display_name": "Python 3.9.7 ('base')",
      "language": "python",
      "name": "python3"
    },
    "language_info": {
      "codemirror_mode": {
        "name": "ipython",
        "version": 3
      },
      "file_extension": ".py",
      "mimetype": "text/x-python",
      "name": "python",
      "nbconvert_exporter": "python",
      "pygments_lexer": "ipython3",
      "version": "3.11.4"
    },
    "orig_nbformat": 4
  },
  "nbformat": 4,
  "nbformat_minor": 0
}
