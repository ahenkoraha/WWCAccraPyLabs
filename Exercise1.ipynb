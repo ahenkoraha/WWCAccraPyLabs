{
 "cells": [
  {
   "attachments": {},
   "cell_type": "markdown",
   "metadata": {},
   "source": [
    "### Simple practice questions and scenarios \n",
    "\n",
    "It is limited to the topics covered in Intro_lab1 and Intro_lab2"
   ]
  },
  {
   "attachments": {},
   "cell_type": "markdown",
   "metadata": {},
   "source": [
    "1. Write a programm to accept the cost of the vehicle and display the tax to be paid according to the following criteria:\n",
    "\n",
    "            Cost price                        Tax \n",
    "            greater than 100,000              15%\n",
    "\n",
    "            greater than 50,000 and less      10%\n",
    "            than or equal to 100,0000\n",
    "\n",
    "            less tha or equal to 50,000       5%\n"
   ]
  },
  {
   "cell_type": "code",
   "execution_count": null,
   "metadata": {},
   "outputs": [],
   "source": []
  },
  {
   "attachments": {},
   "cell_type": "markdown",
   "metadata": {},
   "source": [
    "2. Write a program to check whether a year is a leap year or not"
   ]
  },
  {
   "attachments": {},
   "cell_type": "markdown",
   "metadata": {},
   "source": []
  },
  {
   "attachments": {},
   "cell_type": "markdown",
   "metadata": {},
   "source": [
    "3. Write a program to accpt percentage form user and display the grade according to the following criteria\n",
    "\n",
    "            Marks                 Grade\n",
    "            90 and above            A\n",
    "            between 80 and 90       B\n",
    "            between 60 and 80       C\n",
    "            below 60                D"
   ]
  },
  {
   "cell_type": "code",
   "execution_count": null,
   "metadata": {},
   "outputs": [],
   "source": []
  },
  {
   "attachments": {},
   "cell_type": "markdown",
   "metadata": {},
   "source": [
    "4. Write a program to whether a person has retired or not. (note reitrement age in 60 in Ghana)"
   ]
  },
  {
   "cell_type": "code",
   "execution_count": null,
   "metadata": {},
   "outputs": [],
   "source": []
  },
  {
   "attachments": {},
   "cell_type": "markdown",
   "metadata": {},
   "source": [
    "5. Write a program to check whether a number is prime or not"
   ]
  },
  {
   "attachments": {},
   "cell_type": "markdown",
   "metadata": {},
   "source": []
  },
  {
   "cell_type": "code",
   "execution_count": null,
   "metadata": {},
   "outputs": [],
   "source": []
  },
  {
   "attachments": {},
   "cell_type": "markdown",
   "metadata": {},
   "source": [
    "6. A company decodes to give bonus to employees according to the following criteria:\n",
    "\n",
    "        Period of Service       Bonus\n",
    "        Morethan 10 years       10%\n",
    "        between 6 and 10 years  7.5%\n",
    "        Less than 6 years       5%\n",
    "  Ask the user for their salary and years of service and display the net bonus amount"
   ]
  },
  {
   "cell_type": "code",
   "execution_count": null,
   "metadata": {},
   "outputs": [],
   "source": []
  }
 ],
 "metadata": {
  "language_info": {
   "name": "python"
  },
  "orig_nbformat": 4
 },
 "nbformat": 4,
 "nbformat_minor": 2
}
