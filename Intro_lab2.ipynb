{
  "cells": [
    {
      "attachments": {},
      "cell_type": "markdown",
      "metadata": {
        "id": "l31QOSRQvKuH"
      },
      "source": [
        "## Women Who Code Accra\n",
        "## Introduction to Python 2"
      ]
    },
    {
      "attachments": {},
      "cell_type": "markdown",
      "metadata": {
        "id": "fwK8IwO6vKuS"
      },
      "source": [
        "### Topic to be coverered\n",
        "- [1 - Built-in function](#1)\n",
        "    - [input](#1)\n",
        "    - [int](#1)\n",
        "    - [float](#1)\n",
        "    - [str](#1)\n",
        "- [2 - Boolean Expression](#2)\n",
        "- [3 - Logical Operators](#3)\n",
        "- [4 - Conditional Execution](#4)\n",
        "    - [if](#4)\n",
        "    - [if else](#4)\n",
        "    - [if elif else](#4)\n",
        "    - [try except](#4)\n",
        "\n",
        "    "
      ]
    },
    {
      "attachments": {},
      "cell_type": "markdown",
      "metadata": {
        "id": "k-E_aqeivKud"
      },
      "source": [
        "<a name='1'></a>\n",
        "### 1 - Built-in functions\n",
        "- Built-in functions\n",
        "    - input\n",
        "\n",
        "Python provides built-in functions for various operations. \n",
        "- The input() function gets input from the keyboard. When called, the program stops and waits for the user to type something. The program resumes after the user presses the Enter/Return key and what the user entered is retured to the program as a string\n",
        "- The int() function converts a value to an integer\n",
        "- The float() function converts a value to float\n",
        "- The str() fuction converts a value to string\n",
        "\n",
        "### Examples:"
      ]
    },
    {
      "cell_type": "code",
      "execution_count": 4,
      "metadata": {
        "id": "pugJt4jSvKud",
        "outputId": "01eb7d05-b122-4c80-eafc-c7f800a0e933"
      },
      "outputs": [
        {
          "name": "stdout",
          "output_type": "stream",
          "text": [
            "Hi. Welcome to Women Who Code Accra Python Labs!\n",
            "Welcome Akua to this meetup. Nice to have you here\n"
          ]
        }
      ],
      "source": [
        "## simple welcome system\n",
        "print('Hi. Welcome to Women Who Code Accra Python Labs!')\n",
        "name = input('What is your name')\n",
        "print('Welcome ' +name+ ' to this meetup. Nice to have you here' )\n",
        "\n"
      ]
    },
    {
      "attachments": {},
      "cell_type": "markdown",
      "metadata": {},
      "source": [
        "### 1st App: BMI calculator app (Version 2)"
      ]
    },
    {
      "cell_type": "code",
      "execution_count": 5,
      "metadata": {
        "id": "QBEpuhdzvKue",
        "outputId": "e1950542-93c9-4146-8088-716877eba85f"
      },
      "outputs": [
        {
          "name": "stdout",
          "output_type": "stream",
          "text": [
            "This is your BMI:\n",
            "22.093170054286073\n"
          ]
        }
      ],
      "source": [
        "#BMI App (beginner's version 2) Weight/Height*Height\n",
        "Weight = int(input('What is your weight in kg'))\n",
        "Heightcm = int(input('What is your height in cm'))\n",
        "\n",
        "#convert height in centimeters to meters\n",
        "Heightm = Heightcm/100\n",
        "\n",
        "#Calculate BMI\n",
        "BMI = Weight/(Heightm**2)\n",
        "\n",
        "print('This is your BMI:')\n",
        "print(BMI)\n",
        "\n"
      ]
    },
    {
      "attachments": {},
      "cell_type": "markdown",
      "metadata": {},
      "source": [
        "<a name = '2'></a>\n",
        "### 2 - Boolean Expression\n",
        "A boolean expression evaluates to either true or false like using comparison operators\n",
        "Comparison Operators:\n",
        "- !=, >, >=, <,<=, ==\n",
        "\n",
        "Exapmles:"
      ]
    },
    {
      "cell_type": "code",
      "execution_count": 8,
      "metadata": {},
      "outputs": [
        {
          "name": "stdout",
          "output_type": "stream",
          "text": [
            "True\n"
          ]
        }
      ],
      "source": [
        "age = 60\n",
        "retirementage = 60\n",
        "print(age == retirementage)\n"
      ]
    },
    {
      "attachments": {},
      "cell_type": "markdown",
      "metadata": {},
      "source": [
        "<a nme='3'></a>\n",
        "### 3 - Logical Operators\n",
        " - and, or, not\n",
        "\n",
        "### Examples\n"
      ]
    },
    {
      "cell_type": "code",
      "execution_count": 11,
      "metadata": {},
      "outputs": [
        {
          "name": "stdout",
          "output_type": "stream",
          "text": [
            "True\n"
          ]
        }
      ],
      "source": [
        "print(1 <3 and 2>1)"
      ]
    },
    {
      "attachments": {},
      "cell_type": "markdown",
      "metadata": {},
      "source": [
        "<a name='4'></a>\n",
        "4 - Conditional execution\n",
        "Conditional statements give us the ability to check a condition and change the behaviour of the program accordingly\n",
        "- if\n",
        "- if else\n",
        "- if elif else\n",
        "- try and except\n",
        "### Examples"
      ]
    },
    {
      "cell_type": "code",
      "execution_count": 13,
      "metadata": {},
      "outputs": [
        {
          "name": "stdout",
          "output_type": "stream",
          "text": [
            "Thank you for having fun with us\n"
          ]
        }
      ],
      "source": [
        "#if example\n",
        "number = int(input('Enter any number'))\n",
        "\n",
        "if number > 0 :\n",
        "    print('Number is positive')\n",
        "\n",
        "print('Thank you for having fun with us')"
      ]
    },
    {
      "cell_type": "code",
      "execution_count": 15,
      "metadata": {},
      "outputs": [
        {
          "name": "stdout",
          "output_type": "stream",
          "text": [
            "Number is negative\n",
            "Thank you for having fun with us\n"
          ]
        }
      ],
      "source": [
        "#if else example\n",
        "number = int(input('Enter any number'))\n",
        "\n",
        "if number > 0 :\n",
        "    print('Number is positive')\n",
        "else:\n",
        "    print('Number is negative')\n",
        "\n",
        "print('Thank you for having fun with us')"
      ]
    },
    {
      "cell_type": "code",
      "execution_count": 20,
      "metadata": {},
      "outputs": [
        {
          "name": "stdout",
          "output_type": "stream",
          "text": [
            "Don't become an adult. Adulting is not easy\n",
            "Thank you for having fun with us\n"
          ]
        }
      ],
      "source": [
        "#if elif else example\n",
        "age = int(input('What is your age?'))\n",
        "\n",
        "if age >= 60 :\n",
        "    print('You have retired')\n",
        "elif age < 60 and age > 18:\n",
        "    print('Working class')\n",
        "else:\n",
        "    print(\"Don't become an adult. Adulting is not easy\")\n",
        "\n",
        "print('Thank you for having fun with us')"
      ]
    },
    {
      "cell_type": "code",
      "execution_count": 24,
      "metadata": {},
      "outputs": [
        {
          "name": "stdout",
          "output_type": "stream",
          "text": [
            "You have retired\n"
          ]
        }
      ],
      "source": [
        "#try except example\n",
        "try:\n",
        "    age = int(input('What is your age?'))\n",
        "    if age >= 60 :\n",
        "        print('You have retired')\n",
        "    elif age < 60 and age > 18:\n",
        "        print('Working class')\n",
        "    else:\n",
        "       print(\"Don't become an adult. Adulting is not easy\") \n",
        "except:\n",
        "    print('Hey! you crashed my system!')\n"
      ]
    },
    {
      "attachments": {},
      "cell_type": "markdown",
      "metadata": {},
      "source": [
        "### 1st App: BMI calculator app (Version 3)\n",
        " -  Calculate the user's BMI and display the BMI value as well as the BMI indicator(red, orange, green)"
      ]
    },
    {
      "cell_type": "code",
      "execution_count": null,
      "metadata": {},
      "outputs": [],
      "source": []
    },
    {
      "attachments": {},
      "cell_type": "markdown",
      "metadata": {},
      "source": [
        "### Expense Tracking and Categorisation App"
      ]
    },
    {
      "attachments": {},
      "cell_type": "markdown",
      "metadata": {},
      "source": []
    }
  ],
  "metadata": {
    "colab": {
      "provenance": [],
      "toc_visible": true
    },
    "interpreter": {
      "hash": "b3ba2566441a7c06988d0923437866b63cedc61552a5af99d1f4fb67d367b25f"
    },
    "kernelspec": {
      "display_name": "Python 3.9.7 ('base')",
      "language": "python",
      "name": "python3"
    },
    "language_info": {
      "codemirror_mode": {
        "name": "ipython",
        "version": 3
      },
      "file_extension": ".py",
      "mimetype": "text/x-python",
      "name": "python",
      "nbconvert_exporter": "python",
      "pygments_lexer": "ipython3",
      "version": "3.11.4"
    },
    "orig_nbformat": 4
  },
  "nbformat": 4,
  "nbformat_minor": 0
}
