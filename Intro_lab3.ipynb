{
  "cells": [
    {
      "attachments": {},
      "cell_type": "markdown",
      "metadata": {
        "id": "l31QOSRQvKuH"
      },
      "source": [
        "## Women Who Code Accra\n",
        "## Introduction to Python 3"
      ]
    },
    {
      "attachments": {},
      "cell_type": "markdown",
      "metadata": {
        "id": "fwK8IwO6vKuS"
      },
      "source": [
        "### Topic to be coverered\n",
        "- [1 - Built-in function](#1)\n",
        "    - [max](#1)\n",
        "    - [min](#1)\n",
        "    - [len](#1)\n",
        "    - [range](#1)\n",
        "    - [help](#1)\n",
        "    - [dir](#1)\n",
        "- [2 - Import Modules/Packages](#2)\n",
        "    - [Math](#2)\n",
        "    - [Random](#2)\n",
        "    - [Request](#2)\n",
        "- [3 - User Define Functions](#3)\n",
        "\n",
        "\n",
        "    "
      ]
    },
    {
      "attachments": {},
      "cell_type": "markdown",
      "metadata": {
        "id": "k-E_aqeivKud"
      },
      "source": [
        "<a name='1'></a>\n",
        "### 1 - Built-in functions\n",
        "\n",
        "Python provides built-in functions for various operations. \n",
        "- The max() function returns the largest in a list\n",
        "- The min() function returns the smallest in a list\n",
        "- The len() function returns the length  of a given object\n",
        "- The range() function  returns a sequence of numbers, starting from 0 by default and increments by 1(by default)  and stops before specified number\n",
        "- The help() function invokes interactive help system\n",
        "- The dir() function returns list of attributes and methods of an object\n",
        "\n",
        "### Examples:"
      ]
    },
    {
      "cell_type": "code",
      "execution_count": null,
      "metadata": {
        "id": "pugJt4jSvKud",
        "outputId": "01eb7d05-b122-4c80-eafc-c7f800a0e933"
      },
      "outputs": [],
      "source": [
        "#Example of max, min and len\n",
        "\n",
        "max_num = max(1,3,6,9,2,43,562)\n",
        "\n",
        "print(max_num)\n",
        "\n",
        "min_num = min(1,3,6,9,2, 43,562,-2,3.5)\n",
        "\n",
        "print(min_num)\n",
        "\n",
        "ex_str = 'This ia an example for length'\n",
        "print(len(ex_str))\n"
      ]
    },
    {
      "cell_type": "code",
      "execution_count": null,
      "metadata": {},
      "outputs": [],
      "source": [
        "#Example range()\n",
        "print(range(1,6,2))\n",
        "\n",
        "for i in range(1,6,2):\n",
        "    print(i)"
      ]
    },
    {
      "cell_type": "code",
      "execution_count": null,
      "metadata": {},
      "outputs": [],
      "source": [
        "# Example help, dir\n",
        "\n",
        "help('math')\n",
        "\n",
        "dir_str = 'check this'\n",
        "\n",
        "dir(dir_str)"
      ]
    },
    {
      "attachments": {},
      "cell_type": "markdown",
      "metadata": {},
      "source": [
        "<a name = '2'></a>\n",
        "### 2 - Import Modules/Packages\n",
        "In Python, you can make code in one module/ packages available in your code\n",
        " - Math\n",
        " - Random\n",
        " - Request\n",
        "\n",
        "Exapmles:"
      ]
    },
    {
      "cell_type": "code",
      "execution_count": null,
      "metadata": {},
      "outputs": [],
      "source": [
        "#import example\n",
        "\n",
        "import math\n",
        "\n",
        "print(math.pi)\n",
        "\n",
        "pow_test = math.pow(2,3)\n",
        "\n",
        "print(pow_test)\n",
        "\n",
        "\n",
        "\n"
      ]
    },
    {
      "cell_type": "code",
      "execution_count": null,
      "metadata": {},
      "outputs": [],
      "source": [
        "import random\n",
        "\n",
        "print(random.randint(1,8))\n",
        "print(random.choice(['rock','paper','scissors']))"
      ]
    },
    {
      "cell_type": "code",
      "execution_count": null,
      "metadata": {},
      "outputs": [],
      "source": [
        "#if you want to install requests - this only works for jupyter notebook\n",
        "%pip install requests"
      ]
    },
    {
      "cell_type": "code",
      "execution_count": null,
      "metadata": {},
      "outputs": [],
      "source": [
        "import requests\n",
        "\n",
        "wwc_data = requests.get('https://www.womenwhocode.com')\n",
        "\n",
        "print(wwc_data.text)"
      ]
    },
    {
      "attachments": {},
      "cell_type": "markdown",
      "metadata": {},
      "source": [
        "<a nme='3'></a>\n",
        "### 3 - User Define Functions\n",
        " A function definition specifies the name of a new function and the sequence of statements that execute when the function is called. Once we define a function, we can reuse the function over and over throughout our program.\n",
        "\n",
        "### Examples\n"
      ]
    },
    {
      "cell_type": "code",
      "execution_count": null,
      "metadata": {},
      "outputs": [],
      "source": [
        "def calcBMI(weight,height):\n",
        "    bmi_val = weight/(height**2)\n",
        "    return bmi_val\n",
        "\n",
        "s_bmi = calcBMI(67,1.77)\n",
        "\n",
        "print(s_bmi)\n",
        "\n",
        "def welcome():\n",
        "    print('Welcome to this awesome app!')\n",
        "    print('Let us know if you have any issues')\n",
        "\n",
        "welcome()"
      ]
    },
    {
      "cell_type": "code",
      "execution_count": null,
      "metadata": {},
      "outputs": [],
      "source": [
        "import examplet\n",
        "\n",
        "examplet.testmod()"
      ]
    },
    {
      "attachments": {},
      "cell_type": "markdown",
      "metadata": {},
      "source": [
        "### 1st App: BMI calculator app (Version 4)\n",
        " -  Calculate the user's BMI and display the BMI value as well as the BMI indicator(red, orange, green)"
      ]
    },
    {
      "cell_type": "code",
      "execution_count": null,
      "metadata": {},
      "outputs": [],
      "source": [
        "#check out version 3 of app in Intro_lab2 and upgrade to version 4 using functions"
      ]
    },
    {
      "attachments": {},
      "cell_type": "markdown",
      "metadata": {},
      "source": [
        "You can go to these sites for more on Python and go through some tutorials as well\n",
        "- [Introduction to Python for Everybody](https://www.freecodecamp.org/learn/scientific-computing-with-python/python-for-everybody)\n",
        "- [W3 Schools -Python](https://www.w3schools.com/python/default.asp)\n",
        "- [Become a Python Master](https://programiz.pro/learn/master-python)\n",
        "- [Introduction to Python](https://app.datacamp.com/learn/courses/intro-to-python-for-data-science)\n",
        "- [Top Python courses on Coursera](https://www.coursera.org/courses?query=python)"
      ]
    },
    {
      "attachments": {},
      "cell_type": "markdown",
      "metadata": {},
      "source": []
    }
  ],
  "metadata": {
    "colab": {
      "provenance": [],
      "toc_visible": true
    },
    "interpreter": {
      "hash": "b3ba2566441a7c06988d0923437866b63cedc61552a5af99d1f4fb67d367b25f"
    },
    "kernelspec": {
      "display_name": "Python 3.9.7 ('base')",
      "language": "python",
      "name": "python3"
    },
    "language_info": {
      "codemirror_mode": {
        "name": "ipython",
        "version": 3
      },
      "file_extension": ".py",
      "mimetype": "text/x-python",
      "name": "python",
      "nbconvert_exporter": "python",
      "pygments_lexer": "ipython3",
      "version": "3.11.4"
    },
    "orig_nbformat": 4
  },
  "nbformat": 4,
  "nbformat_minor": 0
}
